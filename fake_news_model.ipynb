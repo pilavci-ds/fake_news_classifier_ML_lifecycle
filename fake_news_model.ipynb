{
 "cells": [
  {
   "cell_type": "markdown",
   "id": "f5015523-9b6c-4760-b065-df4815ece882",
   "metadata": {},
   "source": [
    "# Fake News Detection Model\n",
    "\n",
    "We will apply all the steps of the Machine Learning Lifecycle to a real-world project:\n",
    "1. [Scoping](#scoping)\n",
    "2. [Data](#data)\n",
    "3. [Modeling](#modelling)\n",
    "4. [Deployment](#deployment)"
   ]
  },
  {
   "cell_type": "raw",
   "id": "8a16f1c7-c9ba-4d61-b52f-5504cf102cae",
   "metadata": {},
   "source": [
    "# Check if GPU is detected\n",
    "\n",
    "import tensorflow as tf\n",
    "print(\"TensorFlow version:\", tf.__version__)\n",
    "print(\"Built with CUDA:\", tf.test.is_built_with_cuda())\n",
    "print(\"GPU available:\", tf.config.list_physical_devices('GPU'))\n",
    "\n",
    "if tf.config.list_physical_devices('GPU'):\n",
    "    print(\"GPU Details:\")\n",
    "    for gpu in tf.config.list_physical_devices('GPU'):\n",
    "        print(gpu)\n",
    "else:\n",
    "    print(\"No GPU found.\")"
   ]
  },
  {
   "cell_type": "markdown",
   "id": "64f0be8a-0e03-4276-b7f8-98d924da85c5",
   "metadata": {},
   "source": [
    "<a id='scoping'></a>\n",
    "## 1. Scoping\n",
    "\n",
    "A media monitoring organization wants to help users identify potentially unreliable news content across social media and web sources. The goal is to build a model to flag suspicious articles, then deploy it to serve their users' needs.\n",
    "\n",
    "Before diving into building the system, we first need to gather some details about the project. This information will help guide our decisions and set expectations for all the stakeholders.\n",
    "\n",
    "* **Identify a business problem** - The organization needs a fake news classifier to help users make informed decisions about content reliability. We'll want to identify the relevant business metrics and determine if the technology can indeed help improve those metrics. In this case, an ML model can help scale up the organization's ability to flag potentially unreliable content as misinformation spreads rapidly online. Manual fact-checking can't keep up with the velocity of content creation, and simple keyword-based filters have proven insufficient for detecting sophisticated misinformation.\n",
    "* **Brainstorm AI solutions** - We'll develop an AI solution that classifies articles as reliable or potentially misleading using text features. Typically, as a team, we would want to brainstorm different solutions to see which one addresses the business problem most effectively.\n",
    "* **Assess the feasibility and value of potential solutions** - Here, we would ask questions about the data labeling process, the definitions used for \"fake news,\" etc. To assess project ethics, we would discuss the organization's commitment to transparency, fairness, and avoiding censorship of legitimate dissenting voices. \n",
    "* **Determine milestones and budget for resourcing** - We first would need to identify the metrics for success (precision, recall, F1-score, and fairness metrics across different content types) and estimate the time and resources needed to carry out the project. For now, we want to understand ML's capabilities and limitations in this sensitive domain by building a prototype model. This will help us estimate future timelines and assess whether a robust, production-ready system is achievable with the available data and resources."
   ]
  },
  {
   "cell_type": "markdown",
   "id": "dfc6c440-5e2e-446c-84b9-5cc933712cc7",
   "metadata": {},
   "source": [
    "<a id='data'></a>\n",
    "## 2. Data\n",
    "\n",
    "The quality of the data is critical. In many cases, a data-centric approach where the model code is held fixed and the data are improved iteratively results in better model performance."
   ]
  },
  {
   "cell_type": "code",
   "execution_count": 2,
   "id": "1cc40fa6-3958-4be3-a01c-c7b9513455fb",
   "metadata": {},
   "outputs": [
    {
     "name": "stdout",
     "output_type": "stream",
     "text": [
      "data: ./data\n",
      "model: ./E1/model\n",
      "\n"
     ]
    }
   ],
   "source": [
    "# Packages needed for data preparation and modelling\n",
    "import numpy as np\n",
    "import pandas as pd\n",
    "import matplotlib.pyplot as plt\n",
    "from sklearn.model_selection import train_test_split\n",
    "from sklearn.metrics import classification_report, confusion_matrix, ConfusionMatrixDisplay\n",
    "\n",
    "import tensorflow as tf\n",
    "from transformers import DistilBertTokenizer, TFDistilBertForSequenceClassification\n",
    "from transformers import InputExample, InputFeatures\n",
    "\n",
    "# Set working folders\n",
    "BASE_DIR = './E1'\n",
    "data_dir = './data'\n",
    "model_dir = f'{BASE_DIR}/model'\n",
    "\n",
    "print(\n",
    "    f'data: {data_dir}\\n'\n",
    "    f'model: {model_dir}\\n'\n",
    ")"
   ]
  },
  {
   "cell_type": "markdown",
   "id": "547a7793-91cc-43f6-b391-d432591c9f19",
   "metadata": {},
   "source": [
    "Let's look at the available data and see if it's sufficient for the application. The full dataset is in the `data` folder. We will load the datasets into Pandas dataframes so we can preview and manipulate them later.\n",
    "\n",
    "The dataset is called the WELFake dataset which can be downloaded from Kaggle: https://www.kaggle.com/datasets/saurabhshahane/fake-news-classification\n",
    "\n",
    "It is a dataset of 72,134 news articles with 35,028 real and 37,106 fake news. For this, authors merged four popular news datasets (i.e. Kaggle, McIntire, Reuters, BuzzFeed Political) to prevent over-fitting of classifiers and to provide more text data for better ML training.\n",
    "\n",
    "Dataset contains four columns:\n",
    "* `Serial number (starting from 0)`\n",
    "* `Title` - about the text news heading\n",
    "* `Text` - about the news content\n",
    "* `Label` - 0 = fake and 1 = real"
   ]
  },
  {
   "cell_type": "code",
   "execution_count": 3,
   "id": "e2475b8d-a79d-4406-8134-d485036d9860",
   "metadata": {},
   "outputs": [
    {
     "name": "stdout",
     "output_type": "stream",
     "text": [
      "label\n",
      "0    0.556592\n",
      "1    0.443408\n",
      "Name: proportion, dtype: float64\n"
     ]
    },
    {
     "data": {
      "text/html": [
       "<div>\n",
       "<style scoped>\n",
       "    .dataframe tbody tr th:only-of-type {\n",
       "        vertical-align: middle;\n",
       "    }\n",
       "\n",
       "    .dataframe tbody tr th {\n",
       "        vertical-align: top;\n",
       "    }\n",
       "\n",
       "    .dataframe thead th {\n",
       "        text-align: right;\n",
       "    }\n",
       "</style>\n",
       "<table border=\"1\" class=\"dataframe\">\n",
       "  <thead>\n",
       "    <tr style=\"text-align: right;\">\n",
       "      <th></th>\n",
       "      <th>Unnamed: 0</th>\n",
       "      <th>title</th>\n",
       "      <th>text</th>\n",
       "      <th>label</th>\n",
       "    </tr>\n",
       "  </thead>\n",
       "  <tbody>\n",
       "    <tr>\n",
       "      <th>57023</th>\n",
       "      <td>57023</td>\n",
       "      <td>China defends its right to 'ready slingshot' i...</td>\n",
       "      <td>BEIJING (Reuters) - China defended its right o...</td>\n",
       "      <td>0</td>\n",
       "    </tr>\n",
       "    <tr>\n",
       "      <th>33109</th>\n",
       "      <td>33109</td>\n",
       "      <td>OBAMA ADMINISTRATION Sues Private Business For...</td>\n",
       "      <td>The Obama EEOC has spiraled out of control to ...</td>\n",
       "      <td>1</td>\n",
       "    </tr>\n",
       "    <tr>\n",
       "      <th>27407</th>\n",
       "      <td>27407</td>\n",
       "      <td>France gets serious over sexual harassment aft...</td>\n",
       "      <td>PARIS (Reuters) - The Harvey Weinstein scandal...</td>\n",
       "      <td>0</td>\n",
       "    </tr>\n",
       "    <tr>\n",
       "      <th>38611</th>\n",
       "      <td>38611</td>\n",
       "      <td>Look How Differently President Obama And Dona...</td>\n",
       "      <td>There are many differences between GOP Preside...</td>\n",
       "      <td>1</td>\n",
       "    </tr>\n",
       "    <tr>\n",
       "      <th>19819</th>\n",
       "      <td>19819</td>\n",
       "      <td>Cummings And Chaffetz Reveal ‘MAJOR PROBLEM’ ...</td>\n",
       "      <td>Reps. Jason Chaffetz (R-UT) and Elijah Cumming...</td>\n",
       "      <td>1</td>\n",
       "    </tr>\n",
       "    <tr>\n",
       "      <th>4343</th>\n",
       "      <td>4343</td>\n",
       "      <td>Trump Lashes Out At Black CEO For Resigning F...</td>\n",
       "      <td>Donald Trump s stunning neglect to disavow the...</td>\n",
       "      <td>1</td>\n",
       "    </tr>\n",
       "    <tr>\n",
       "      <th>38073</th>\n",
       "      <td>38073</td>\n",
       "      <td>Wells Fargo to Claw Back $75 Million From 2 Fo...</td>\n",
       "      <td>Wells Fargo’s board said on Monday that it wou...</td>\n",
       "      <td>0</td>\n",
       "    </tr>\n",
       "    <tr>\n",
       "      <th>48783</th>\n",
       "      <td>48783</td>\n",
       "      <td>Putin-Trump meeting not yet planned for Asia s...</td>\n",
       "      <td>MOSCOW (Reuters) - Russian President Vladimir ...</td>\n",
       "      <td>0</td>\n",
       "    </tr>\n",
       "    <tr>\n",
       "      <th>65479</th>\n",
       "      <td>65479</td>\n",
       "      <td>Muslims in Kashmir observe martyrdom anniv. of...</td>\n",
       "      <td>Muslims in Kashmir observe martyrdom anniv. of...</td>\n",
       "      <td>1</td>\n",
       "    </tr>\n",
       "    <tr>\n",
       "      <th>1411</th>\n",
       "      <td>1411</td>\n",
       "      <td>U.N. condemns anti-gay crackdowns in Egypt, Az...</td>\n",
       "      <td>GENEVA (Reuters) - Azerbaijan, Egypt and Indon...</td>\n",
       "      <td>0</td>\n",
       "    </tr>\n",
       "  </tbody>\n",
       "</table>\n",
       "</div>"
      ],
      "text/plain": [
       "       Unnamed: 0                                              title  \\\n",
       "57023       57023  China defends its right to 'ready slingshot' i...   \n",
       "33109       33109  OBAMA ADMINISTRATION Sues Private Business For...   \n",
       "27407       27407  France gets serious over sexual harassment aft...   \n",
       "38611       38611   Look How Differently President Obama And Dona...   \n",
       "19819       19819   Cummings And Chaffetz Reveal ‘MAJOR PROBLEM’ ...   \n",
       "4343         4343   Trump Lashes Out At Black CEO For Resigning F...   \n",
       "38073       38073  Wells Fargo to Claw Back $75 Million From 2 Fo...   \n",
       "48783       48783  Putin-Trump meeting not yet planned for Asia s...   \n",
       "65479       65479  Muslims in Kashmir observe martyrdom anniv. of...   \n",
       "1411         1411  U.N. condemns anti-gay crackdowns in Egypt, Az...   \n",
       "\n",
       "                                                    text  label  \n",
       "57023  BEIJING (Reuters) - China defended its right o...      0  \n",
       "33109  The Obama EEOC has spiraled out of control to ...      1  \n",
       "27407  PARIS (Reuters) - The Harvey Weinstein scandal...      0  \n",
       "38611  There are many differences between GOP Preside...      1  \n",
       "19819  Reps. Jason Chaffetz (R-UT) and Elijah Cumming...      1  \n",
       "4343   Donald Trump s stunning neglect to disavow the...      1  \n",
       "38073  Wells Fargo’s board said on Monday that it wou...      0  \n",
       "48783  MOSCOW (Reuters) - Russian President Vladimir ...      0  \n",
       "65479  Muslims in Kashmir observe martyrdom anniv. of...      1  \n",
       "1411   GENEVA (Reuters) - Azerbaijan, Egypt and Indon...      0  "
      ]
     },
     "execution_count": 3,
     "metadata": {},
     "output_type": "execute_result"
    }
   ],
   "source": [
    "# Set the column width in case we want to see the entire length of the `text` column\n",
    "#pd.set_option('display.max_colwidth', None)\n",
    "\n",
    "# Load the datasets into dataframes\n",
    "all_data = pd.read_csv(f'{data_dir}/WELFake_Dataset.csv')\n",
    "\n",
    "# Drop missing values\n",
    "all_data = all_data.dropna()\n",
    "\n",
    "# Drop duplicates in text\n",
    "all_data = all_data.drop_duplicates(subset=['text'])\n",
    "\n",
    "# Split the combined dataset to 70% train, 15% dev, and 15% test set. Produce a balanced split along the `label` column.\n",
    "train_df, test_df = train_test_split(all_data, test_size=0.3, stratify=all_data['label'], random_state=3)\n",
    "test_df, dev_df = train_test_split(test_df, test_size=0.5, stratify=test_df['label'], random_state=3)\n",
    "\n",
    "# Check label distribution\n",
    "print(train_df['label'].value_counts(dropna=False, normalize=True))\n",
    "\n",
    "# Preview the first 10 rows of the training set\n",
    "train_df[:10]"
   ]
  },
  {
   "cell_type": "markdown",
   "id": "9ad2eb30-7847-4761-9de5-ca22efc15260",
   "metadata": {},
   "source": [
    "### Define the Data\n",
    "\n",
    "Preparing the data effectively is key to good model performance. If the human labelers providing the dataset's ground truth were given ambiguous labeling instructions, they might produce inconsistent labels. This is especially critical for fake news detection, where the line between misleading, biased, satirical, and outright false content can be subjective. These inconsistent labels make it harder for the learning algorithm to understand the relationship between the inputs and outputs, and can lead to a model that reflects labeller biases rather than objective indicators of misinformation.\n",
    "Here are some questions about the data that might be sources of ambiguity:\n",
    "  * <i>How were the labels determined? How many labellers were involved and how were their outputs aggregated? What is the inter-rater reliability? Were fact-checkers used, or was labeling based on source reputation? What was the threshold for labeling something as \"fake\" versus \"misleading\" versus \"biased but factual\"?\n",
    "  * <i>How is \"fake news\" defined in this dataset? Does it include satire? Opinion pieces? Misleading headlines with accurate body text? Unverified claims?\n",
    "  * <i> What is the class distribution? Is there significant class imbalance between fake and real news?\n",
    "  * <i>Are the text features really enough for this application? If the dataset were to be collected again, what additional features might be useful?\n",
    "  * <i>Are there potential sources of bias in the dataset? Does the dataset represent a balanced view of political perspectives? Are certain topics or sources overrepresented? Could the model learn to flag content based on political leaning rather than factual accuracy?\n",
    "  * <i>What is the temporal distribution of the data? Misinformation tactics evolve over time. Is the training data recent enough to capture current patterns?"
   ]
  },
  {
   "cell_type": "markdown",
   "id": "ecb14d70-267e-4b85-a854-ee8e8e01fe01",
   "metadata": {},
   "source": [
    "### Tokenize the Text, and Split the Data into Train, Development, Test Sets"
   ]
  },
  {
   "cell_type": "code",
   "execution_count": 4,
   "id": "13394827-2000-44d0-9b69-5ebf719cc794",
   "metadata": {},
   "outputs": [
    {
     "name": "stderr",
     "output_type": "stream",
     "text": [
      "/home/ishakpilavci/bert_gpu/lib/python3.12/site-packages/transformers/tokenization_utils_base.py:1601: FutureWarning: `clean_up_tokenization_spaces` was not set. It will be set to `True` by default. This behavior will be depracted in transformers v4.45, and will be then set to `False` by default. For more details check this issue: https://github.com/huggingface/transformers/issues/31884\n",
      "  warnings.warn(\n"
     ]
    },
    {
     "name": "stdout",
     "output_type": "stream",
     "text": [
      "WARNING:tensorflow:From /tmp/ipykernel_810/3642988364.py:45: calling DatasetV2.from_generator (from tensorflow.python.data.ops.dataset_ops) with output_types is deprecated and will be removed in a future version.\n",
      "Instructions for updating:\n",
      "Use output_signature instead\n",
      "WARNING:tensorflow:From /tmp/ipykernel_810/3642988364.py:45: calling DatasetV2.from_generator (from tensorflow.python.data.ops.dataset_ops) with output_shapes is deprecated and will be removed in a future version.\n",
      "Instructions for updating:\n",
      "Use output_signature instead\n"
     ]
    }
   ],
   "source": [
    "# Load the Tokenizer\n",
    "#tokenizer = BertTokenizer.from_pretrained('bert-base-uncased')\n",
    "tokenizer = DistilBertTokenizer.from_pretrained('distilbert-base-uncased') # distilbert is faster than bert\n",
    "\n",
    "# Function to convert DataFrame rows to InputExamples\n",
    "def convert_data_to_examples(df, text_column, label_column):\n",
    "    return [\n",
    "        InputExample(guid=None, text_a=row[text_column], text_b=None, label=row[label_column])\n",
    "        for _, row in df.iterrows()\n",
    "    ]\n",
    "\n",
    "# Convert InputExamples to InputFeatures\n",
    "def convert_examples_to_tf_dataset(examples, tokenizer, max_length=512):\n",
    "    features = []\n",
    "    for e in examples:\n",
    "        inputs = tokenizer.encode_plus(\n",
    "            e.text_a,\n",
    "            add_special_tokens=True,\n",
    "            max_length=max_length,\n",
    "            truncation=True,\n",
    "            padding='max_length',\n",
    "            return_attention_mask=True\n",
    "        )\n",
    "        input_ids = inputs[\"input_ids\"]\n",
    "        attention_mask = inputs[\"attention_mask\"]\n",
    "        \n",
    "        features.append(\n",
    "            InputFeatures(\n",
    "                input_ids=input_ids,\n",
    "                attention_mask=attention_mask,\n",
    "                label=int(e.label),\n",
    "            )\n",
    "        )\n",
    "    \n",
    "    def gen():\n",
    "        for f in features:\n",
    "            yield (\n",
    "                {\n",
    "                    \"input_ids\": f.input_ids,\n",
    "                    \"attention_mask\": f.attention_mask,\n",
    "                },\n",
    "                f.label,\n",
    "            )\n",
    "    \n",
    "    return tf.data.Dataset.from_generator(\n",
    "        gen,\n",
    "        ({'input_ids': tf.int32, 'attention_mask': tf.int32}, tf.int64),\n",
    "        (\n",
    "            {\n",
    "                'input_ids': tf.TensorShape([None]),\n",
    "                'attention_mask': tf.TensorShape([None]),\n",
    "            },\n",
    "            tf.TensorShape([])\n",
    "        )\n",
    "    )\n",
    "\n",
    "# Convert Train/Dev/Test Dataframes\n",
    "train_examples = convert_data_to_examples(train_df, 'text', 'label')\n",
    "dev_examples = convert_data_to_examples(dev_df, 'text', 'label')\n",
    "test_examples = convert_data_to_examples(test_df, 'text', 'label')\n",
    "\n",
    "# Convert to TensorFlow Datasets\n",
    "train_dataset = convert_examples_to_tf_dataset(train_examples, tokenizer).shuffle(100).batch(16)\n",
    "dev_dataset = convert_examples_to_tf_dataset(dev_examples, tokenizer).batch(16)\n",
    "test_dataset = convert_examples_to_tf_dataset(test_examples, tokenizer).batch(16)\n",
    "\n",
    "# Prefetch Datasets\n",
    "train_dataset = train_dataset.prefetch(buffer_size=tf.data.experimental.AUTOTUNE)\n",
    "dev_dataset = dev_dataset.prefetch(buffer_size=tf.data.experimental.AUTOTUNE)\n",
    "test_dataset = test_dataset.prefetch(buffer_size=tf.data.experimental.AUTOTUNE)"
   ]
  },
  {
   "cell_type": "markdown",
   "id": "f7e18f33-e51e-4c81-811e-31e8be07615e",
   "metadata": {},
   "source": [
    "<a id='modelling'></a>\n",
    "## 3. Modeling\n",
    "\n",
    "For this project, let's train a DistilBERT model as the prototype baseline. We will evaluate its performance and perform error analysis to investigate how it can be improved.\n",
    "\n",
    "We will save the first model in the `E1/model` folder (short for Experiment 1)."
   ]
  },
  {
   "cell_type": "code",
   "execution_count": 4,
   "id": "36d8fb3a",
   "metadata": {
    "scrolled": true
   },
   "outputs": [
    {
     "data": {
      "application/vnd.jupyter.widget-view+json": {
       "model_id": "702f65db481f43ae91e6877bc821467d",
       "version_major": 2,
       "version_minor": 0
      },
      "text/plain": [
       "tokenizer_config.json:   0%|          | 0.00/48.0 [00:00<?, ?B/s]"
      ]
     },
     "metadata": {},
     "output_type": "display_data"
    },
    {
     "data": {
      "application/vnd.jupyter.widget-view+json": {
       "model_id": "1d80b2e566194522a4c6be7ee2ee280f",
       "version_major": 2,
       "version_minor": 0
      },
      "text/plain": [
       "vocab.txt:   0%|          | 0.00/232k [00:00<?, ?B/s]"
      ]
     },
     "metadata": {},
     "output_type": "display_data"
    },
    {
     "data": {
      "application/vnd.jupyter.widget-view+json": {
       "model_id": "67cab90285af46819067fdaad8e7d012",
       "version_major": 2,
       "version_minor": 0
      },
      "text/plain": [
       "tokenizer.json:   0%|          | 0.00/466k [00:00<?, ?B/s]"
      ]
     },
     "metadata": {},
     "output_type": "display_data"
    },
    {
     "data": {
      "application/vnd.jupyter.widget-view+json": {
       "model_id": "aad96fda56c14892a69dd8a18eaad8b0",
       "version_major": 2,
       "version_minor": 0
      },
      "text/plain": [
       "config.json:   0%|          | 0.00/483 [00:00<?, ?B/s]"
      ]
     },
     "metadata": {},
     "output_type": "display_data"
    },
    {
     "name": "stderr",
     "output_type": "stream",
     "text": [
      "/home/ishakpilavci/bert_gpu/lib/python3.12/site-packages/transformers/tokenization_utils_base.py:1601: FutureWarning: `clean_up_tokenization_spaces` was not set. It will be set to `True` by default. This behavior will be depracted in transformers v4.45, and will be then set to `False` by default. For more details check this issue: https://github.com/huggingface/transformers/issues/31884\n",
      "  warnings.warn(\n"
     ]
    },
    {
     "name": "stdout",
     "output_type": "stream",
     "text": [
      "WARNING:tensorflow:From /tmp/ipykernel_3579/2999460121.py:45: calling DatasetV2.from_generator (from tensorflow.python.data.ops.dataset_ops) with output_types is deprecated and will be removed in a future version.\n",
      "Instructions for updating:\n",
      "Use output_signature instead\n",
      "WARNING:tensorflow:From /tmp/ipykernel_3579/2999460121.py:45: calling DatasetV2.from_generator (from tensorflow.python.data.ops.dataset_ops) with output_shapes is deprecated and will be removed in a future version.\n",
      "Instructions for updating:\n",
      "Use output_signature instead\n"
     ]
    },
    {
     "name": "stderr",
     "output_type": "stream",
     "text": [
      "WARNING: All log messages before absl::InitializeLog() is called are written to STDERR\n",
      "I0000 00:00:1760106333.979495    3579 gpu_device.cc:2020] Created device /job:localhost/replica:0/task:0/device:GPU:0 with 9511 MB memory:  -> device: 0, name: NVIDIA GeForce RTX 4080 Laptop GPU, pci bus id: 0000:01:00.0, compute capability: 8.9\n"
     ]
    },
    {
     "data": {
      "application/vnd.jupyter.widget-view+json": {
       "model_id": "d42ce47d75594e939dcd69b555d606ff",
       "version_major": 2,
       "version_minor": 0
      },
      "text/plain": [
       "model.safetensors:   0%|          | 0.00/268M [00:00<?, ?B/s]"
      ]
     },
     "metadata": {},
     "output_type": "display_data"
    },
    {
     "name": "stderr",
     "output_type": "stream",
     "text": [
      "Some weights of the PyTorch model were not used when initializing the TF 2.0 model TFDistilBertForSequenceClassification: ['vocab_layer_norm.bias', 'vocab_transform.bias', 'vocab_layer_norm.weight', 'vocab_projector.bias', 'vocab_transform.weight']\n",
      "- This IS expected if you are initializing TFDistilBertForSequenceClassification from a PyTorch model trained on another task or with another architecture (e.g. initializing a TFBertForSequenceClassification model from a BertForPreTraining model).\n",
      "- This IS NOT expected if you are initializing TFDistilBertForSequenceClassification from a PyTorch model that you expect to be exactly identical (e.g. initializing a TFBertForSequenceClassification model from a BertForSequenceClassification model).\n",
      "Some weights or buffers of the TF 2.0 model TFDistilBertForSequenceClassification were not initialized from the PyTorch model and are newly initialized: ['pre_classifier.weight', 'pre_classifier.bias', 'classifier.weight', 'classifier.bias']\n",
      "You should probably TRAIN this model on a down-stream task to be able to use it for predictions and inference.\n"
     ]
    },
    {
     "name": "stdout",
     "output_type": "stream",
     "text": [
      "Epoch 1/3\n"
     ]
    },
    {
     "name": "stderr",
     "output_type": "stream",
     "text": [
      "I0000 00:00:1760106436.550850    3840 device_compiler.h:196] Compiled cluster using XLA!  This line is logged at most once for the lifetime of the process.\n"
     ]
    },
    {
     "name": "stdout",
     "output_type": "stream",
     "text": [
      "2722/2722 [==============================] - 1356s 491ms/step - loss: 0.0536 - accuracy: 0.9801 - val_loss: 0.0375 - val_accuracy: 0.9860\n",
      "Epoch 2/3\n",
      "2722/2722 [==============================] - 1041s 383ms/step - loss: 0.0164 - accuracy: 0.9941 - val_loss: 0.0261 - val_accuracy: 0.9925\n",
      "Epoch 3/3\n",
      "2722/2722 [==============================] - 1037s 381ms/step - loss: 0.0092 - accuracy: 0.9967 - val_loss: 0.0244 - val_accuracy: 0.9922\n",
      "\n",
      "Evaluating on test data:\n",
      "584/584 [==============================] - 71s 122ms/step - loss: 0.0255 - accuracy: 0.9934\n"
     ]
    },
    {
     "data": {
      "text/plain": [
       "[0.02549907937645912, 0.9933547973632812]"
      ]
     },
     "execution_count": 4,
     "metadata": {},
     "output_type": "execute_result"
    }
   ],
   "source": [
    "# Load the BERT model\n",
    "#model = TFBertForSequenceClassification.from_pretrained('bert-base-uncased', num_labels=2)\n",
    "model = TFDistilBertForSequenceClassification.from_pretrained('distilbert-base-uncased', num_labels=2) # distilbert is faster than bert\n",
    "\n",
    "# Compile the model\n",
    "optimizer = tf.keras.optimizers.Adam(learning_rate=2e-5) # fine-tuning a pre-trained model\n",
    "loss = tf.keras.losses.SparseCategoricalCrossentropy(from_logits=True)\n",
    "metrics = [tf.metrics.SparseCategoricalAccuracy('accuracy')]\n",
    "\n",
    "model.compile(optimizer=optimizer, loss=loss, metrics=metrics)\n",
    "\n",
    "# Train the model\n",
    "history = model.fit(train_dataset, validation_data=dev_dataset, epochs=3)\n",
    "\n",
    "# Evaluate on test set\n",
    "print(\"\\nEvaluating on test data:\")\n",
    "model.evaluate(test_dataset)"
   ]
  },
  {
   "cell_type": "code",
   "execution_count": 12,
   "id": "db1b078b-21d9-452b-bafa-9b47723df537",
   "metadata": {},
   "outputs": [
    {
     "data": {
      "image/png": "[encoded data removed]",
      "text/plain": [
       "<Figure size 1200x500 with 2 Axes>"
      ]
     },
     "metadata": {},
     "output_type": "display_data"
    }
   ],
   "source": [
    "# Plot training and validation accuracy/loss\n",
    "def plot_training_history(history):\n",
    "    acc = history.history['accuracy']\n",
    "    val_acc = history.history['val_accuracy']\n",
    "    loss = history.history['loss']\n",
    "    val_loss = history.history['val_loss']\n",
    "    epochs = range(1, len(acc) + 1)\n",
    "\n",
    "    plt.figure(figsize=(12, 5))\n",
    "\n",
    "    plt.subplot(1, 2, 1)\n",
    "    plt.plot(epochs, acc, 'bo-', label='Training Accuracy')\n",
    "    plt.plot(epochs, val_acc, 'ro-', label='Validation Accuracy')\n",
    "    plt.title('Training and Validation Accuracy')\n",
    "    plt.xlabel('Epochs')\n",
    "    plt.ylabel('Accuracy')\n",
    "    plt.legend()\n",
    "\n",
    "    plt.subplot(1, 2, 2)\n",
    "    plt.plot(epochs, loss, 'bo-', label='Training Loss')\n",
    "    plt.plot(epochs, val_loss, 'ro-', label='Validation Loss')\n",
    "    plt.title('Training and Validation Loss')\n",
    "    plt.xlabel('Epochs')\n",
    "    plt.ylabel('Loss')\n",
    "    plt.legend()\n",
    "\n",
    "    plt.tight_layout()\n",
    "    plt.show()\n",
    "\n",
    "plot_training_history(history)"
   ]
  },
  {
   "cell_type": "markdown",
   "id": "82033372-2790-4888-b590-f764578197fc",
   "metadata": {},
   "source": [
    "The divergence between training and validation accuracy by epoch 3 suggests the model might be starting to overfit — performing better on training data but not improving (or slightly worsening) on unseen validation data."
   ]
  },
  {
   "cell_type": "code",
   "execution_count": 10,
   "id": "f1810ef8",
   "metadata": {},
   "outputs": [
    {
     "data": {
      "text/plain": [
       "('./E1/model/tokenizer_config.json',\n",
       " './E1/model/special_tokens_map.json',\n",
       " './E1/model/vocab.txt',\n",
       " './E1/model/added_tokens.json')"
      ]
     },
     "execution_count": 10,
     "metadata": {},
     "output_type": "execute_result"
    }
   ],
   "source": [
    "# Save the model\n",
    "model.save_pretrained(f'{model_dir}')\n",
    "tokenizer.save_pretrained(f'{model_dir}')"
   ]
  },
  {
   "cell_type": "code",
   "execution_count": 10,
   "id": "b3a97ac3-2d57-4c15-8f08-589fbc10013f",
   "metadata": {},
   "outputs": [
    {
     "name": "stdout",
     "output_type": "stream",
     "text": [
      "Model: \"tf_distil_bert_for_sequence_classification\"\n",
      "_________________________________________________________________\n",
      " Layer (type)                Output Shape              Param #   \n",
      "=================================================================\n",
      " distilbert (TFDistilBertMa  multiple                  66362880  \n",
      " inLayer)                                                        \n",
      "                                                                 \n",
      " pre_classifier (Dense)      multiple                  590592    \n",
      "                                                                 \n",
      " classifier (Dense)          multiple                  1538      \n",
      "                                                                 \n",
      " dropout_19 (Dropout)        multiple                  0         \n",
      "                                                                 \n",
      "=================================================================\n",
      "Total params: 66955010 (255.41 MB)\n",
      "Trainable params: 66955010 (255.41 MB)\n",
      "Non-trainable params: 0 (0.00 Byte)\n",
      "_________________________________________________________________\n"
     ]
    }
   ],
   "source": [
    "# Show the model architecture\n",
    "model.summary()"
   ]
  },
  {
   "cell_type": "raw",
   "id": "5559fc60-6bea-4526-88eb-e67ea6551bda",
   "metadata": {},
   "source": [
    "# Load the model\n",
    "# from transformers import DistilBertTokenizer, TFDistilBertForSequenceClassification\n",
    "\n",
    "model = TFDistilBertForSequenceClassification.from_pretrained(f'{model_dir}')\n",
    "tokenizer = DistilBertTokenizer.from_pretrained(f'{model_dir}')"
   ]
  },
  {
   "cell_type": "code",
   "execution_count": 6,
   "id": "19255c29-fca5-435e-b6a9-b279f068b035",
   "metadata": {},
   "outputs": [
    {
     "name": "stdout",
     "output_type": "stream",
     "text": [
      "584/584 [==============================] - 1084s 2s/step\n",
      "              precision    recall  f1-score   support\n",
      "\n",
      "           0       1.00      0.99      0.99      5193\n",
      "           1       0.99      1.00      0.99      4137\n",
      "\n",
      "    accuracy                           0.99      9330\n",
      "   macro avg       0.99      0.99      0.99      9330\n",
      "weighted avg       0.99      0.99      0.99      9330\n",
      "\n"
     ]
    },
    {
     "data": {
      "image/png": "[encoded data removed]",
      "text/plain": [
       "<Figure size 640x480 with 2 Axes>"
      ]
     },
     "metadata": {},
     "output_type": "display_data"
    }
   ],
   "source": [
    "# Performance Evaluation\n",
    "\n",
    "# Get raw logits from model\n",
    "logits = model.predict(test_dataset).logits\n",
    "\n",
    "# Convert logits to predicted class labels\n",
    "y_pred = np.argmax(logits, axis=1)\n",
    "\n",
    "# Get true labels from test set\n",
    "y_true = np.concatenate([y for x, y in test_dataset], axis=0)\n",
    "\n",
    "# Print classification report\n",
    "print(classification_report(y_true, y_pred))\n",
    "\n",
    "# Confusion matrix\n",
    "cm = confusion_matrix(y_true, y_pred)\n",
    "disp = ConfusionMatrixDisplay(confusion_matrix=cm)\n",
    "disp.plot(cmap=plt.cm.Blues)\n",
    "plt.title(\"Confusion Matrix\")\n",
    "plt.show()"
   ]
  },
  {
   "cell_type": "markdown",
   "id": "3981df76-9204-4760-a212-2b650ac78ffb",
   "metadata": {},
   "source": [
    "### Perform Error Analysis\n",
    "\n",
    "Error analysis helps us determine which part of the process we need to tweak to give the biggest improvement. Likewise, it helps us avoid focusing on parts that do not greatly affect the results.\n",
    "\n",
    "Let's look at the data that the model incorrectly predicted."
   ]
  },
  {
   "cell_type": "code",
   "execution_count": 7,
   "id": "f81cc531-8f7c-43ad-9911-41cf8a575e38",
   "metadata": {
    "scrolled": true
   },
   "outputs": [
    {
     "name": "stdout",
     "output_type": "stream",
     "text": [
      "Here are false negatives:\n",
      "We are supposed to have a government of the people, by the people and for the people, but instead we have a government of the elite, by the elite and for the elite. Most people do not realize this, but today most members of Congress are actually millionaires. The disconnect between members of Congress and average Americans has never been greater than it is right now, and I think that is a very troubling sign for the future of this nation.Sen. Ted Cruz (R-Texas) and Rep. Ron DeSantis (R-Fla.) are pushing for an amendment to the Constitution to place term limits on lawmakers, arguing the move will help overhaul Washington. The American people resoundingly agreed on Election Day, and President-elect Donald Trump has committed to putting government back to work for the American people,  Cruz said in a statement on Tuesday.  It is well past time to put an end to the cronyism and deceit that has transformed Washington into a graveyard of good intentions. Under an amendment the two GOP lawmakers filed on Tuesday, House members would be allowed to serve three two-year terms and senators would be able to serve two six-year terms.  The HillJohn Conyers Jr., Mich. Jan. 4, 1965 Charles B. Rangel, N.Y. Jan. 21, 1971 Steny H. Hoyer, Md. May 19, 1981 Marcy Kaptur, Ohio Jan. 3, 1983 Sander M. Levin, Mich. Jan. 3, 1983 Peter J. Visclosky, Ind. Jan. 3, 1985 Peter A. DeFazio, Ore. Jan. 6, 1987 John Lewis, Ga. Jan. 6, 1987 Louise M. Slaughter, N.Y. Jan. 6, 1987 Nancy Pelosi, Calif. June 2, 1987 Frank Pallone Jr., N.J. Nov. 8, 1988 Eliot L. Engel, N.Y. Jan. 3, 1989 Nita M. Lowey, N.Y. Jan. 3, 1989 Richard E. Neal, Mass. Jan. 3, 1989 Jos  E. Serrano, N.Y. March 20, 1990 David E. Price, N.C. Jan. 7, 1997 Also served 1987-95 Rosa DeLauro, Conn. Jan. 3, 1991 Collin C. Peterson, Minn. Jan. 3, 1991 Maxine Waters, Calif. Jan. 3, 1991 Jerrold Nadler, N.Y. Nov. 3, 1992 Jim Cooper, Tenn. Jan. 7, 2003 Also served 1983-95 Xavier Becerra, Calif. Jan. 5, 1993 Sanford D. Bishop Jr., Ga. Jan. 5, 1993 Corrine Brown, Fla. Jan. 5, 1993 James E. Clyburn, S.C. Jan. 5, 1993 Anna G. Eshoo, Calif. Jan. 5, 1993 Gene Green, Texas Jan. 5, 1993 Luis V. Gutierrez, Ill. Jan. 5, 1993 Alcee L. Hastings, Fla. Jan. 5, 1993 Eddie Bernice Johnson, Texas Jan. 5, 1993 Carolyn B. Maloney, N.Y. Jan. 5, 1993 Lucille Roybal-Allard, Calif. Jan. 5, 1993 Bobby L. Rush, Ill. Jan. 5, 1993 Robert C. Scott, Va. Jan. 5, 1993 Nydia M. Vel zquez, N.Y. Jan. 5, 1993 Bennie Thompson, Miss. April 13, 1993 Sam Farr, Calif. June 8, 1993 Lloyd Doggett, Texas Jan. 4, 1995 Mike Doyle, Pa. Jan. 4, 1995 Chaka Fattah, Pa. Jan. 4, 1995 Sheila Jackson Lee, Texas Jan. 4, 1995 Zoe Lofgren, Calif. Jan. 4, 1995 As you looked over those lists, you probably noticed that they contain many of the members of Congress that Americans complain about the most.Unfortunately, because the vast majority of these individuals come from states or congressional districts that are basically a lock to vote a certain way, there is very little hope of ever removing them. That means that most of these Congress critters are going to get to keep coming back for as long as they want.No matter which political party you prefer, this should greatly disturb you.Our founders certainly never intended for a permanent class of elitists to rule over us.But that is what we have.  Zero Hedge  \n",
      "===== END OF THIS NEWS ===== \n",
      "\n",
      "DEAD MUSLIMS SOCIETY will sue to force small Massachusetts town to allocate space for 16,000 dead Muslims Negotiations to put a Muslim cemetery in the small town of Dudley have broken down in acrimony, and the contentious issue — replete with charges and countercharges of bigotry and grandstanding — appears to be headed for resolution in the courts, aided and abetted by the litigation jihadists of designated terrorist group CAIR. Boston Globe The Islamic Society of Greater Worcester ended talks this week after the Board of Selectmen did not accept its latest proposal for a graveyard on 55 acres of abandoned farmland , according to the society’s attorney. A counter-offer by the town also was not accepted. Neither side provided details of the private discussions. People are opposed to casket free Muslim burials which could contaminate the water supply Jay Talerman, the Islamic Society attorney, said Thursday the group will now pursue the plan in the courts, following a 10-month process that failed to produce an agreement but generated plenty of heated rhetoric. “Each time, the selectmen retreated to a position that involved violating my client’s rights,” Talerman said. “The most disappointing part appears to be that they never sincerely or genuinely had any intention to accommodate us.” (What a surprise. NOT) A suit filed by the society is pending in Massachusetts Land Court. In addition, the ACLU of Massachusetts is preparing to file a civil rights suit in US District Court, said Sarah Wunsch, the organization’s deputy legal director. The Obama thugs of the US Attorney’s Office in Boston already has launched an investigation into whether civil rights violations occurred. The state Attorney General’s office has been in talks with both sides. The town’s attorney, Gary Brackett, said that the issue always has been about the size and impact of the cemetery — not whether one would be permitted. Throughout the process, Talerman said, “the selectmen never expressed a willingness to abandon procedures that are a direct affront to my clients.” Brackett denounced Talerman’s repeated accusations that anti-Muslim bias tainted the cemetery application. Large crowds have come out to every meeting to protest the proposed cemetery “I would compare Mr. Talerman’s broad-brush claims regarding the citizens and officials of the town of Dudley as being the equivalent of Donald Trump’s attempt at portraying Muslims,” Brackett said. Dr. Amjad Bahnassi, the president of the Islamic Society, said he attributed part of the opposition to a “misunderstanding” of the Muslim religion and said the issue has become a civil rights concern for many of the estimated 5,000 Muslims in Worcester County. “We’re being denied unfairly what is granted to us by the law,” Bahnassi said. At issue is the Islamic Society’s attempt to buy farmland with enough space for an estimated 16,000 graves that, if filled, would be the largest Muslim cemetery in the state. The society currently uses a graveyard in Enfield, Conn., 60 miles from Worcester, which Muslim leaders said poses a hardship for many families. When the society’s plans became public early this year, townspeople expressed fears that burials would contaminate well water, because Muslims traditionally do not use coffins, and that the nearby rural roads would become congested. Muslim leaders continued to pursue their application through town government, even though Talerman said the society was not required to seek approval because the organization is a religious group seeking the land for a religious purpose. The town’s Zoning Board of Appeals rejected the cemetery application in June, and the Islamic Society filed suit in Land Court. The town also began efforts to buy the land under a right of first refusal for certain agricultural property. However, the Islamic Society, which already had signed a purchase-and-sale agreement for the property, argued again that the town had no such right. Facing intensifying pressure, the town eventually waived that claim. On Thursday, Talerman reiterated his longstanding contention that bigotry lies behind the lack of an agreement. “We gave this town an opportunity to lock arms with us and welcome a benign use into their town that would dispel any notion that they were biased or bigoted,” he said. “They have not taken up the olive branch and instead have doubled down on strategies that are solely intended to delay or kill our project.” (Yes, and once Trump is in office you can take your lawsuit and stuff it) RELATED STORIES/VIDEOS: \n",
      "===== END OF THIS NEWS ===== \n",
      "\n...(removed the remaining output)",
      "Here are false positives:\n",
      "Well, we did the pre-game last night, so it's time for the Tuesday morning quarterbacking: Watch Libertarian Party presidential nominee Gary Johnson take my questions and yours on Reason's Facebook page (and right here). What do you want to know about the campaign strategy ahead? \n",
      "===== END OF THIS NEWS ===== \n",
      "\n",
      "Greetings Earthlings! This is your planet and its moon as seen from Mars, some 127 million miles away. This composite image, which was released by NASA on Friday, was created using a special camera aboard the agency’s Mars Reconnaissance Orbiter, which is a spacecraft orbiting about 180 miles above the red planet. The camera is called the High Resolution Imaging Science Experiment. It provides scientists with detailed views of the Martian surface so they can better study geological features like its volcanoes and gullies, as well as scope out potential landing sites for future missions. “It’s the biggest telescope ever sent to another planet,” said Alfred McEwen a planetary geologist at the University of Arizona and the principal investigator of HiRise. Dr. McEwen said that the image was taken while NASA researchers were trying to calibrate the camera. NASA knows precisely what color the moon’s near side is, so when it wants to calibrate HiRise, it points it at the moon and takes some images. NASA then analyzes the pictures and if the colors appear off it can correct the calibration. “The moon is boring. It doesn’t change, it’s relatively bland and it doesn’t have all of these variations or changing clouds. It’s a good calibration target,” Dr. McEwen said. “The Earth is a bad calibration target with all its variability like clouds and such, but it makes a pretty picture. ” Earth and the moon appear close in this image, but that is because the moon is actually just behind Earth. The researchers had to wait until the two celestial bodies were positioned like this because it provided them with the best view of the moon to perform their calibration, Dr. McEwen said. To make this picture, scientists combined two separate exposures taken on Nov. 20, 2016, which were processed differently. Dr. McEwen said that NASA needed two exposures to make this image because a good image of the moon saturates Earth, and a good image of Earth makes the moon appear too dark. Vegetation appears red in this image, according to Dr. McEwen. The red spot in the middle of Earth is Australia, the one on the top left is Southeast Asia and Antarctica is the bright white blob in the bottom left. \n",
      "===== END OF THIS NEWS ===== \n",
      "\n...(removed the remaining output)",
      "\n"
     ]
    }
   ],
   "source": [
    "test_df_copy = pd.concat([test_df.reset_index(drop=True), pd.Series(y_pred).rename('label_pred')], axis=1)\n",
    "\n",
    "false_negatives = test_df_copy[(test_df_copy['label']!=test_df_copy['label_pred'])&(test_df_copy['label']==1)].reset_index(drop=True)\n",
    "false_positives = test_df_copy[(test_df_copy['label']!=test_df_copy['label_pred'])&(test_df_copy['label']==0)].reset_index(drop=True)\n",
    "\n",
    "print('Here are false negatives:')\n",
    "for i in false_negatives['text']:\n",
    "    print(i, '\\n===== END OF THIS NEWS ===== \\n')\n",
    "print('')\n",
    "print('Here are false positives:')\n",
    "for i in false_positives['text']:\n",
    "    print(i, '\\n===== END OF THIS NEWS ===== \\n')"
   ]
  },
  {
   "cell_type": "markdown",
   "id": "7d2ef47c-9466-447d-82c4-0f0141e78c93",
   "metadata": {},
   "source": [
    "The model is technically excellent and potentially MORE accurate than the training labels. The high accuracy shows it learned the labeling pattern perfectly but the labeling pattern itself might be problematic. Let's look at an example from each of the false negatives and false positives:\n",
    "1. False Negative Example:\n",
    "   - \"DEAD MUSLIMS SOCIETY will sue to force small Massachusetts town to allocate space for 16,000 dead Muslims... aided and abetted by the litigation jihadists of designated terrorist group CAIR.\"\n",
    "   - The model predicted that this is FAKE but the label says it is REAL. The news is indeed FAKE because it has (i) inflammatory, dehumanizing language (\"Dead Muslims Society\"), (ii) loaded terms (\"litigation jihadists\", \"designated terrorist group\"), (iii) sensationalized framing designed to provoke fear/anger.\n",
    "   - The dataset likely labeled this as \"real\" because it references an actual news event (a cemetery dispute in Massachusetts). But the article's presentation is so distorted and inflammatory that it crosses into misinformation territory.\n",
    "   - The label conflates \"based on a real event\" with \"trustworthy reporting.\" The model correctly identified this as fake news based on its manipulative language patterns.\n",
    "2. False Positive Example:\n",
    "   - \"When Donald Trump began his improbable run for president 15 months ago... it became clear that Mr. Trump's views were matters of dangerous impulse and cynical pandering... It is time for others who are still undecided... to take a hard look and see Mr. Trump for who he is.\"\n",
    "   - The model predicted that this is REAL but the label says it is FAKE. The news is indeed REAL because it has (i) professional journalistic writing, (ii) structured argumentation with evidence, (iii) published by established newspaper (NYT) and clearly labeled as editorial/opinion: https://www.nytimes.com/2016/09/26/opinion/why-donald-trump-should-not-be-president.html\n",
    "   - The dataset appears to have labeled opinion content against Trump as \"fake news,\" possibly because the source list conflated anti-Trump content with misinformation.\n",
    "   - This is legitimate opinion journalism from one of the world's most respected newspapers. Labeling it \"fake\" because it's critical of Trump may be revealing political bias in the dataset labeling.\n",
    "\n",
    "These examples show the model is learning to detect actual fake news characteristics (manipulative language, sensationalism, inflammatory framing) rather than just memorizing source labels. But it's being penalized because the dataset:\n",
    "- Labels inflammatory misinformation as \"real\"\n",
    "- Labels legitimate mainstream opinion as \"fake\"\n",
    "\n",
    "The 99% accuracy is impressive, but these errors suggest the remaining 1% might actually be the model being too smart and correcting the dataset's mistakes. The data-centric approach where the model code is held fixed and the data are improved iteratively should be followed in the next iterations.\n",
    "\n",
    "The labelling process should be investigated. Critical questions to address:\n",
    "1. How does the dataset handle:\n",
    "   - Opinion vs. news distinction\n",
    "   - Partisan but factual reporting\n",
    "   - Legitimate controversial topics\n",
    "2. What is the actual labeling methodology?\n",
    "   - Who determined which sources are \"fake\"?\n",
    "   - Were articles independently fact-checked?"
   ]
  },
  {
   "cell_type": "markdown",
   "id": "57a46259-89ae-4490-bcd6-bfaaea6decbc",
   "metadata": {},
   "source": [
    "### Further Considerations\n",
    "\n",
    "* Establishing a performance baseline would allow us to better understand whether our prototype model is a major improvement to what is already available, and if so, by how much.\n",
    "* Adding more data would likely help boost the model's performance, if possible. We can try getting training examples from other datasets to see if having more diverse examples will help the model pick up more patterns.\n",
    "* We can try training the data with more complex architecture to see whether this would help boost the model performance."
   ]
  },
  {
   "cell_type": "markdown",
   "id": "811e7487-f81c-412a-b5cb-d4f41b366c80",
   "metadata": {},
   "source": [
    "<a id='deployment'></a>\n",
    "## 4. Deployment\n",
    "\n",
    "Given that the prototype model performs well and it may take too much time to improve the data quality for the current needs, let's deploy the prototype model and start receiving requests. This can open up new challenges, and we will have to monitor potential problems and make sure that the model stays performant."
   ]
  },
  {
   "cell_type": "code",
   "execution_count": 12,
   "id": "531e5eb8-0bd1-48da-b846-1b46478ff25d",
   "metadata": {},
   "outputs": [],
   "source": [
    "# Packages needed in the Deployment Stage\n",
    "\n",
    "import os\n",
    "import requests\n",
    "import json"
   ]
  },
  {
   "cell_type": "markdown",
   "id": "6ad1c333-0010-4dcd-8698-07cf4520e83f",
   "metadata": {},
   "source": [
    "Let's deploy the model locally using Tensorflow Serving, which can be installed by following [the instructions here](https://www.tensorflow.org/tfx/serving/setup). Alternatively, we can use Docker and/or deploy on a cloud platform if we need to process news articles in batches every hour."
   ]
  },
  {
   "cell_type": "code",
   "execution_count": 13,
   "id": "899fd6ff-e046-42e4-80aa-d30269d8d57f",
   "metadata": {},
   "outputs": [
    {
     "name": "stdout",
     "output_type": "stream",
     "text": [
      "SERVING_DIR: /mnt/c/Users/onatz/Downloads/fake_news_project/serving\n",
      "os.environ[\"SERVING_DIR\"]: /mnt/c/Users/onatz/Downloads/fake_news_project/serving\n"
     ]
    }
   ],
   "source": [
    "SERVING_DIR = f'{os.getcwd()}/serving'\n",
    "os.environ[\"SERVING_DIR\"] = SERVING_DIR\n",
    "\n",
    "print(f'SERVING_DIR: {SERVING_DIR}')\n",
    "print(f'os.environ[\"SERVING_DIR\"]: {os.environ[\"SERVING_DIR\"]}')"
   ]
  },
  {
   "cell_type": "code",
   "execution_count": 14,
   "id": "e5014937-6fd8-49ed-bd08-b0337ffc02e9",
   "metadata": {},
   "outputs": [
    {
     "name": "stdout",
     "output_type": "stream",
     "text": [
      "WARNING:tensorflow:Skipping full serialization of TF-Keras layer <tf_keras.src.layers.regularization.dropout.Dropout object at 0x7721a70b6e10>, because it is not built.\n",
      "WARNING:tensorflow:Skipping full serialization of TF-Keras layer <tf_keras.src.layers.regularization.dropout.Dropout object at 0x7721a59bf920>, because it is not built.\n",
      "WARNING:tensorflow:Skipping full serialization of TF-Keras layer <tf_keras.src.layers.regularization.dropout.Dropout object at 0x7721a59a9220>, because it is not built.\n",
      "WARNING:tensorflow:Skipping full serialization of TF-Keras layer <tf_keras.src.layers.regularization.dropout.Dropout object at 0x7721a59aad20>, because it is not built.\n",
      "WARNING:tensorflow:Skipping full serialization of TF-Keras layer <tf_keras.src.layers.regularization.dropout.Dropout object at 0x7721a6ecc950>, because it is not built.\n",
      "WARNING:tensorflow:Skipping full serialization of TF-Keras layer <tf_keras.src.layers.regularization.dropout.Dropout object at 0x7721a6ece660>, because it is not built.\n",
      "INFO:tensorflow:Assets written to: /mnt/c/Users/onatz/Downloads/fake_news_project/serving/1/assets\n"
     ]
    },
    {
     "name": "stderr",
     "output_type": "stream",
     "text": [
      "INFO:tensorflow:Assets written to: /mnt/c/Users/onatz/Downloads/fake_news_project/serving/1/assets\n"
     ]
    }
   ],
   "source": [
    "# Save the model to the serving directory\n",
    "model.save(f'{SERVING_DIR}/1')"
   ]
  },
  {
   "cell_type": "markdown",
   "id": "1d40b42f-fad4-4f68-8cd9-0315a7de9ebb",
   "metadata": {},
   "source": [
    "Let's run Tensorflow Serving in the background and it will detect the model available for serving."
   ]
  },
  {
   "cell_type": "code",
   "execution_count": 15,
   "id": "142380a5-14aa-4e18-9ffa-2fc14b34d965",
   "metadata": {},
   "outputs": [],
   "source": [
    "%%bash --bg \n",
    "nohup tensorflow_model_server \\\n",
    "  --rest_api_port=8501 \\\n",
    "  --model_name=fakenews_model \\\n",
    "  --model_base_path=\"${SERVING_DIR}\" > ./serving/server.log 2>&1"
   ]
  },
  {
   "cell_type": "markdown",
   "id": "f7dffb59-3aed-4eef-8b75-e27d22577214",
   "metadata": {},
   "source": [
    "One of the things we want to ensure when serving models is consistency in data transformations. The inference data must follow the same transformation pipeline as the training data. We implemented a Flask wrapper that allows passing a string directly to the model. To enable this, run the Flask wrapper in the terminal: `python tokenizer_server.py`\n",
    "\n",
    "Then, let's send two requests to the model: one for a real news article and another for a fake one. We will get a response with the predictions."
   ]
  },
  {
   "cell_type": "code",
   "execution_count": 20,
   "id": "608d548c-cc08-48a3-ac68-c36ed4b6f8db",
   "metadata": {},
   "outputs": [
    {
     "name": "stdout",
     "output_type": "stream",
     "text": [
      "{'predictions': [[-3.20628476, 3.30672503]]}\n"
     ]
    }
   ],
   "source": [
    "response = requests.post(\n",
    "    'http://localhost:5000/predict', \n",
    "    json={\"text\": \"Trump Considers Overhaul of Refugee System That Would Favor White People. The proposals would transform a program aimed at helping the most vulnerable people in the world into one that gives preference to mostly white people who say they are being persecuted.\"}\n",
    ")\n",
    "\n",
    "print(response.json())"
   ]
  },
  {
   "cell_type": "code",
   "execution_count": 21,
   "id": "a6ccf615-c154-46ef-bf54-09204dd97c26",
   "metadata": {},
   "outputs": [
    {
     "name": "stdout",
     "output_type": "stream",
     "text": [
      "Class 0 probability: 0.0015\n",
      "Class 1 probability: 0.9985\n",
      "Predicted class: 1\n"
     ]
    }
   ],
   "source": [
    "# Convert the logits to probabilities\n",
    "\n",
    "logits = np.array(response.json()['predictions'][0])\n",
    "probs = np.exp(logits) / np.sum(np.exp(logits))\n",
    "\n",
    "print(f\"Class 0 probability: {probs[0]:.4f}\")\n",
    "print(f\"Class 1 probability: {probs[1]:.4f}\")\n",
    "print(f\"Predicted class: {np.argmax(logits)}\")\n",
    "\n",
    "# this is indeed a real news article: https://www.nytimes.com/2025/10/15/us/politics/trump-refugee-white-people.html"
   ]
  },
  {
   "cell_type": "code",
   "execution_count": 30,
   "id": "c2f087b8-6237-4f30-b6d7-f1f322458bd2",
   "metadata": {},
   "outputs": [
    {
     "name": "stdout",
     "output_type": "stream",
     "text": [
      "{'predictions': [[2.29810452, -2.05049086]]}\n"
     ]
    }
   ],
   "source": [
    "response = requests.post(\n",
    "    'http://localhost:5000/predict',\n",
    "    json={\"text\": \"“At that point officials will decide whether to bring it back for Columbus Day weekend when crowds of automobiles once again make driving here almost impossible. It has already been decided to bring it back for the summer of 2025. The Hamptons’ faux fee would depend on the vehicle’s price tag, with cars “with low value, such as old Toyota Corollas,” paying just $5, but cars worth up to $60,000 forced to pay $50. Cars valued at up to $100,000 would pay $200, with vehicles worth and between $100,000 and $250,000 having to pay $999.\"}\n",
    ")\n",
    "\n",
    "print(response.json())"
   ]
  },
  {
   "cell_type": "code",
   "execution_count": 31,
   "id": "5f4f65b1-861e-4148-b88c-2deb28b6d20a",
   "metadata": {},
   "outputs": [
    {
     "name": "stdout",
     "output_type": "stream",
     "text": [
      "Class 0 probability: 0.9872\n",
      "Class 1 probability: 0.0128\n",
      "Predicted class: 0\n"
     ]
    }
   ],
   "source": [
    "# Convert the logits to probabilities\n",
    "\n",
    "logits = np.array(response.json()['predictions'][0])\n",
    "probs = np.exp(logits) / np.sum(np.exp(logits))\n",
    "\n",
    "print(f\"Class 0 probability: {probs[0]:.4f}\")\n",
    "print(f\"Class 1 probability: {probs[1]:.4f}\")\n",
    "print(f\"Predicted class: {np.argmax(logits)}\")\n",
    "\n",
    "# this is indeed a fake news article, as described here: https://nypost.com/2024/09/01/us-news/spoof-article-about-supposed-congestion-pricing-in-hamptons-drives-locals-crazy/"
   ]
  },
  {
   "cell_type": "markdown",
   "id": "30454b0f-328a-49e1-9cba-18d47ab08813",
   "metadata": {},
   "source": [
    "### Monitor and Maintain System\n",
    "\n",
    "If the model goes live in production, we will want to know as early as possible if there's a problem. We need to brainstorm potential issues and develop metrics to detect them. We can set up an alarm if a threshold is met, so we can investigate. Metrics can be broadly classified into three categories:\n",
    "\n",
    "* Software metrics - These refer to the capacity of the platform to deliver the prediction service. It includes measuring available memory and compute resources, latency, throughput, and server load. These metrics will indicate whether resources need to be scaled to maintain system performance.\n",
    "\n",
    "* Input metrics - These refer to the characteristics of the incoming data, to detect if the input distribution is changing or if there are edge cases that were not considered. For example, average input length, number of unknown tokens, out-of-vocabulary words, etc.\n",
    "\n",
    "* Output metrics - These refer to the results of the model predictions. For example, average number of predictions per category, average probability per prediction, etc."
   ]
  }
 ],
 "metadata": {
  "environment": {
   "kernel": "python3",
   "name": "common-cpu.m112",
   "type": "gcloud",
   "uri": "gcr.io/deeplearning-platform-release/base-cpu:m112"
  },
  "kernelspec": {
   "display_name": "Python 3 (ipykernel)",
   "language": "python",
   "name": "python3"
  },
  "language_info": {
   "codemirror_mode": {
    "name": "ipython",
    "version": 3
   },
   "file_extension": ".py",
   "mimetype": "text/x-python",
   "name": "python",
   "nbconvert_exporter": "python",
   "pygments_lexer": "ipython3",
   "version": "3.12.3"
  }
 },
 "nbformat": 4,
 "nbformat_minor": 5
}
